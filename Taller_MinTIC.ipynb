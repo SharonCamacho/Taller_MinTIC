{
  "nbformat": 4,
  "nbformat_minor": 0,
  "metadata": {
    "colab": {
      "name": "Taller_MinTIC.ipynb",
      "provenance": [],
      "authorship_tag": "ABX9TyOboBVk/16rnG58DBOi8DoV",
      "include_colab_link": true
    },
    "kernelspec": {
      "name": "python3",
      "display_name": "Python 3"
    }
  },
  "cells": [
    {
      "cell_type": "markdown",
      "metadata": {
        "id": "view-in-github",
        "colab_type": "text"
      },
      "source": [
        "<a href=\"https://colab.research.google.com/github/SharonCamacho/Taller_MinTIC/blob/main/Taller_MinTIC.ipynb\" target=\"_parent\"><img src=\"https://colab.research.google.com/assets/colab-badge.svg\" alt=\"Open In Colab\"/></a>"
      ]
    },
    {
      "cell_type": "markdown",
      "metadata": {
        "id": "QZ6px84wJB3X"
      },
      "source": [
        "# Taller Análisis de Datos con Python"
      ]
    },
    {
      "cell_type": "markdown",
      "metadata": {
        "id": "veCqvktVLhlj"
      },
      "source": [
        "# Cargue del archivo\n",
        "\n",
        "Primero vamos a cargar el archivo con la ayuda de la librería de pandas"
      ]
    },
    {
      "cell_type": "markdown",
      "metadata": {
        "id": "gkkrO6Q_0ua7"
      },
      "source": [
        "Importo la librería de pandas"
      ]
    },
    {
      "cell_type": "code",
      "metadata": {
        "id": "YXh3suBHwh5m"
      },
      "source": [
        "import pandas as pd"
      ],
      "execution_count": null,
      "outputs": []
    },
    {
      "cell_type": "markdown",
      "metadata": {
        "id": "pcXA4TadL5z7"
      },
      "source": [
        "Leo el archivo"
      ]
    },
    {
      "cell_type": "code",
      "metadata": {
        "id": "D_dOkoAf2P4J"
      },
      "source": [
        "data = pd.read_csv('DataSet.csv',sep=';')"
      ],
      "execution_count": null,
      "outputs": []
    },
    {
      "cell_type": "markdown",
      "metadata": {
        "id": "eKrZmRZaadG8"
      },
      "source": [
        "# Análisis Exploratorio"
      ]
    },
    {
      "cell_type": "markdown",
      "metadata": {
        "id": "qhMw4OoVMAVB"
      },
      "source": [
        "Exploramos el dataset con estos métodos de la librería de pandas\n",
        "\n",
        "* df.head()\n",
        "* df.tail()\n",
        "* df.info()\n",
        "* df.shape\n",
        "* df.columns\n",
        "* df.describe()\n",
        "* df.value_counts()\n",
        "* df.unique()\n",
        "* df.nunique()"
      ]
    },
    {
      "cell_type": "code",
      "metadata": {
        "id": "4iurzsKK3fS-",
        "outputId": "c7f8db2a-e311-46a0-b0ce-6494a72429b8",
        "colab": {
          "base_uri": "https://localhost:8080/",
          "height": 361
        }
      },
      "source": [
        "data.head()\n",
        "#Exploramos las 5 primeras líneas de mis datos"
      ],
      "execution_count": null,
      "outputs": [
        {
          "output_type": "execute_result",
          "data": {
            "text/html": [
              "<div>\n",
              "<style scoped>\n",
              "    .dataframe tbody tr th:only-of-type {\n",
              "        vertical-align: middle;\n",
              "    }\n",
              "\n",
              "    .dataframe tbody tr th {\n",
              "        vertical-align: top;\n",
              "    }\n",
              "\n",
              "    .dataframe thead th {\n",
              "        text-align: right;\n",
              "    }\n",
              "</style>\n",
              "<table border=\"1\" class=\"dataframe\">\n",
              "  <thead>\n",
              "    <tr style=\"text-align: right;\">\n",
              "      <th></th>\n",
              "      <th>Nombre</th>\n",
              "      <th>Edad</th>\n",
              "      <th>Tr@bajo</th>\n",
              "      <th>Trabajo</th>\n",
              "      <th>Estado_Civil</th>\n",
              "      <th>Nivel_escolaridad</th>\n",
              "      <th>Nivel_escolaridad.1</th>\n",
              "      <th>Tiene_Credito?</th>\n",
              "      <th>Medio_de_Comunicación</th>\n",
              "      <th>Duracion_ultimo_contacto_seg</th>\n",
              "      <th>Order_D4te</th>\n",
              "      <th>envio23$%3</th>\n",
              "      <th>Segment</th>\n",
              "      <th>Categ</th>\n",
              "      <th>SubCat</th>\n",
              "      <th>V2016</th>\n",
              "      <th>V2017</th>\n",
              "      <th>V2018</th>\n",
              "    </tr>\n",
              "  </thead>\n",
              "  <tbody>\n",
              "    <tr>\n",
              "      <th>0</th>\n",
              "      <td>ketty-elvira/niño-calderon</td>\n",
              "      <td>58</td>\n",
              "      <td>management</td>\n",
              "      <td>management</td>\n",
              "      <td>married</td>\n",
              "      <td>tertiary</td>\n",
              "      <td>tertiary</td>\n",
              "      <td>no</td>\n",
              "      <td>unknown</td>\n",
              "      <td>261</td>\n",
              "      <td>13/09/17</td>\n",
              "      <td>Regular</td>\n",
              "      <td>Hogares</td>\n",
              "      <td>Tecnología</td>\n",
              "      <td>Cuadernos</td>\n",
              "      <td>22.483</td>\n",
              "      <td>490.004</td>\n",
              "      <td>669.895</td>\n",
              "    </tr>\n",
              "    <tr>\n",
              "      <th>1</th>\n",
              "      <td>yanira-pilar/garcia-barreto</td>\n",
              "      <td>44</td>\n",
              "      <td>technician</td>\n",
              "      <td>technician</td>\n",
              "      <td>single</td>\n",
              "      <td>secondary</td>\n",
              "      <td>secondary</td>\n",
              "      <td>no</td>\n",
              "      <td>unknown</td>\n",
              "      <td>151</td>\n",
              "      <td>25/03/18</td>\n",
              "      <td>Express_Aire</td>\n",
              "      <td>Corporativo</td>\n",
              "      <td>Muebles</td>\n",
              "      <td>Lapiceros_y_Marcadores</td>\n",
              "      <td>52.225</td>\n",
              "      <td>361.837</td>\n",
              "      <td>245.154</td>\n",
              "    </tr>\n",
              "    <tr>\n",
              "      <th>2</th>\n",
              "      <td>milton-marina/hernandez-vega</td>\n",
              "      <td>33</td>\n",
              "      <td>entrepreneur</td>\n",
              "      <td>entrepreneur</td>\n",
              "      <td>married</td>\n",
              "      <td>secondary</td>\n",
              "      <td>secondary</td>\n",
              "      <td>no</td>\n",
              "      <td>unknown</td>\n",
              "      <td>76</td>\n",
              "      <td>26/09/17</td>\n",
              "      <td>Express_Aire</td>\n",
              "      <td>Corporativo</td>\n",
              "      <td>Suplementos_Oficina</td>\n",
              "      <td>Papel</td>\n",
              "      <td>90.924</td>\n",
              "      <td>903.292</td>\n",
              "      <td>166.285</td>\n",
              "    </tr>\n",
              "    <tr>\n",
              "      <th>3</th>\n",
              "      <td>rocio-constanza/mora-lopez</td>\n",
              "      <td>47</td>\n",
              "      <td>blue-collar</td>\n",
              "      <td>blue-collar</td>\n",
              "      <td>married</td>\n",
              "      <td>No informa</td>\n",
              "      <td>No informa</td>\n",
              "      <td>no</td>\n",
              "      <td>unknown</td>\n",
              "      <td>92</td>\n",
              "      <td>14/07/16</td>\n",
              "      <td>Regular</td>\n",
              "      <td>Startups</td>\n",
              "      <td>Suplementos_Oficina</td>\n",
              "      <td>Reglas_tijeras</td>\n",
              "      <td>2.681</td>\n",
              "      <td>823.176</td>\n",
              "      <td>13.273</td>\n",
              "    </tr>\n",
              "    <tr>\n",
              "      <th>4</th>\n",
              "      <td>yeimi-constanza/arenas-torres</td>\n",
              "      <td>33</td>\n",
              "      <td>NaN</td>\n",
              "      <td>NaN</td>\n",
              "      <td>single</td>\n",
              "      <td>No informa</td>\n",
              "      <td>No informa</td>\n",
              "      <td>no</td>\n",
              "      <td>unknown</td>\n",
              "      <td>198</td>\n",
              "      <td>24/06/17</td>\n",
              "      <td>Express_Aire</td>\n",
              "      <td>Startups</td>\n",
              "      <td>Suplementos_Oficina</td>\n",
              "      <td>Telefonos_comunicaciones</td>\n",
              "      <td>68.063</td>\n",
              "      <td>552.045</td>\n",
              "      <td>123.810</td>\n",
              "    </tr>\n",
              "  </tbody>\n",
              "</table>\n",
              "</div>"
            ],
            "text/plain": [
              "                          Nombre  Edad       Tr@bajo  ...   V2016    V2017    V2018\n",
              "0     ketty-elvira/niño-calderon    58    management  ...  22.483  490.004  669.895\n",
              "1    yanira-pilar/garcia-barreto    44    technician  ...  52.225  361.837  245.154\n",
              "2   milton-marina/hernandez-vega    33  entrepreneur  ...  90.924  903.292  166.285\n",
              "3     rocio-constanza/mora-lopez    47   blue-collar  ...   2.681  823.176   13.273\n",
              "4  yeimi-constanza/arenas-torres    33           NaN  ...  68.063  552.045  123.810\n",
              "\n",
              "[5 rows x 18 columns]"
            ]
          },
          "metadata": {
            "tags": []
          },
          "execution_count": 9
        }
      ]
    },
    {
      "cell_type": "code",
      "metadata": {
        "id": "Q2G3iMpg88Al",
        "outputId": "e0c8153d-97af-4595-edcf-4e0cec5a91a1",
        "colab": {
          "base_uri": "https://localhost:8080/",
          "height": 343
        }
      },
      "source": [
        "data.tail()\n",
        "#Exploramos las 5 últimas líneas de mis datos"
      ],
      "execution_count": null,
      "outputs": [
        {
          "output_type": "execute_result",
          "data": {
            "text/html": [
              "<div>\n",
              "<style scoped>\n",
              "    .dataframe tbody tr th:only-of-type {\n",
              "        vertical-align: middle;\n",
              "    }\n",
              "\n",
              "    .dataframe tbody tr th {\n",
              "        vertical-align: top;\n",
              "    }\n",
              "\n",
              "    .dataframe thead th {\n",
              "        text-align: right;\n",
              "    }\n",
              "</style>\n",
              "<table border=\"1\" class=\"dataframe\">\n",
              "  <thead>\n",
              "    <tr style=\"text-align: right;\">\n",
              "      <th></th>\n",
              "      <th>Nombre</th>\n",
              "      <th>Edad</th>\n",
              "      <th>Tr@bajo</th>\n",
              "      <th>Trabajo</th>\n",
              "      <th>Estado_Civil</th>\n",
              "      <th>Nivel_escolaridad</th>\n",
              "      <th>Nivel_escolaridad.1</th>\n",
              "      <th>Tiene_Credito?</th>\n",
              "      <th>Medio_de_Comunicación</th>\n",
              "      <th>Duracion_ultimo_contacto_seg</th>\n",
              "      <th>Order_D4te</th>\n",
              "      <th>envio23$%3</th>\n",
              "      <th>Segment</th>\n",
              "      <th>Categ</th>\n",
              "      <th>SubCat</th>\n",
              "      <th>V2016</th>\n",
              "      <th>V2017</th>\n",
              "      <th>V2018</th>\n",
              "    </tr>\n",
              "  </thead>\n",
              "  <tbody>\n",
              "    <tr>\n",
              "      <th>12045</th>\n",
              "      <td>diana-helena/lozada-rodriguez</td>\n",
              "      <td>39</td>\n",
              "      <td>blue-collar</td>\n",
              "      <td>blue-collar</td>\n",
              "      <td>married</td>\n",
              "      <td>secondary</td>\n",
              "      <td>secondary</td>\n",
              "      <td>no</td>\n",
              "      <td>unknown</td>\n",
              "      <td>78</td>\n",
              "      <td>29/12/16</td>\n",
              "      <td>Regular</td>\n",
              "      <td>Hogares</td>\n",
              "      <td>Muebles</td>\n",
              "      <td>Libreros</td>\n",
              "      <td>34.929</td>\n",
              "      <td>162.553</td>\n",
              "      <td>618.894</td>\n",
              "    </tr>\n",
              "    <tr>\n",
              "      <th>12046</th>\n",
              "      <td>fermin-mercedes/bolivar-garay</td>\n",
              "      <td>53</td>\n",
              "      <td>retired</td>\n",
              "      <td>retired</td>\n",
              "      <td>divorced</td>\n",
              "      <td>secondary</td>\n",
              "      <td>secondary</td>\n",
              "      <td>no</td>\n",
              "      <td>unknown</td>\n",
              "      <td>14</td>\n",
              "      <td>12/11/16</td>\n",
              "      <td>Bajo</td>\n",
              "      <td>Personas</td>\n",
              "      <td>Muebles</td>\n",
              "      <td>Muebles</td>\n",
              "      <td>6.438</td>\n",
              "      <td>388.493</td>\n",
              "      <td>249.875</td>\n",
              "    </tr>\n",
              "    <tr>\n",
              "      <th>12047</th>\n",
              "      <td>gloria-/diaz-rincon</td>\n",
              "      <td>35</td>\n",
              "      <td>services</td>\n",
              "      <td>services</td>\n",
              "      <td>married</td>\n",
              "      <td>secondary</td>\n",
              "      <td>secondary</td>\n",
              "      <td>no</td>\n",
              "      <td>unknown</td>\n",
              "      <td>59</td>\n",
              "      <td>5/08/17</td>\n",
              "      <td>Regular</td>\n",
              "      <td>Hogares</td>\n",
              "      <td>Suplementos_Oficina</td>\n",
              "      <td>Mesas</td>\n",
              "      <td>91.604</td>\n",
              "      <td>97.243</td>\n",
              "      <td>503.251</td>\n",
              "    </tr>\n",
              "    <tr>\n",
              "      <th>12048</th>\n",
              "      <td>larisa-/acosta-torres</td>\n",
              "      <td>49</td>\n",
              "      <td>technician</td>\n",
              "      <td>technician</td>\n",
              "      <td>married</td>\n",
              "      <td>tertiary</td>\n",
              "      <td>tertiary</td>\n",
              "      <td>no</td>\n",
              "      <td>unknown</td>\n",
              "      <td>1</td>\n",
              "      <td>12/09/16</td>\n",
              "      <td>Bajo</td>\n",
              "      <td>Startups</td>\n",
              "      <td>Muebles</td>\n",
              "      <td>Tecnología</td>\n",
              "      <td>23.681</td>\n",
              "      <td>98.325</td>\n",
              "      <td>425.908</td>\n",
              "    </tr>\n",
              "    <tr>\n",
              "      <th>12049</th>\n",
              "      <td>diana-patricia/cabrera-izquierdo</td>\n",
              "      <td>36</td>\n",
              "      <td>self-employed</td>\n",
              "      <td>self-employed</td>\n",
              "      <td>married</td>\n",
              "      <td>tertiary</td>\n",
              "      <td>tertiary</td>\n",
              "      <td>no</td>\n",
              "      <td>unknown</td>\n",
              "      <td>13</td>\n",
              "      <td>1/02/17</td>\n",
              "      <td>Regular</td>\n",
              "      <td>NaN</td>\n",
              "      <td>NaN</td>\n",
              "      <td>NaN</td>\n",
              "      <td>NaN</td>\n",
              "      <td>NaN</td>\n",
              "      <td>NaN</td>\n",
              "    </tr>\n",
              "  </tbody>\n",
              "</table>\n",
              "</div>"
            ],
            "text/plain": [
              "                                 Nombre  Edad  ...    V2017    V2018\n",
              "12045     diana-helena/lozada-rodriguez    39  ...  162.553  618.894\n",
              "12046     fermin-mercedes/bolivar-garay    53  ...  388.493  249.875\n",
              "12047               gloria-/diaz-rincon    35  ...   97.243  503.251\n",
              "12048             larisa-/acosta-torres    49  ...   98.325  425.908\n",
              "12049  diana-patricia/cabrera-izquierdo    36  ...      NaN      NaN\n",
              "\n",
              "[5 rows x 18 columns]"
            ]
          },
          "metadata": {
            "tags": []
          },
          "execution_count": 5
        }
      ]
    },
    {
      "cell_type": "code",
      "metadata": {
        "id": "8CBh2oAc44Gu",
        "outputId": "3838cd2c-34e4-47c5-d486-ddce04cba407",
        "colab": {
          "base_uri": "https://localhost:8080/",
          "height": 451
        }
      },
      "source": [
        "data.info()\n",
        "#Nos da información sobre un DataFrame, incluido el tamaño,  \n",
        "#las columnas (nombre, tipo de dato y cantidad de registros no nulos) \n",
        "#resumen de tipos de datos por columna y el uso de memoria."
      ],
      "execution_count": null,
      "outputs": [
        {
          "output_type": "stream",
          "text": [
            "<class 'pandas.core.frame.DataFrame'>\n",
            "RangeIndex: 12093 entries, 0 to 12092\n",
            "Data columns (total 18 columns):\n",
            " #   Column                        Non-Null Count  Dtype  \n",
            "---  ------                        --------------  -----  \n",
            " 0   Nombre                        12093 non-null  object \n",
            " 1   Edad                          12093 non-null  int64  \n",
            " 2   Tr@bajo                       11994 non-null  object \n",
            " 3   Trabajo                       11994 non-null  object \n",
            " 4   Estado_Civil                  12093 non-null  object \n",
            " 5   Nivel_escolaridad             12093 non-null  object \n",
            " 6   Nivel_escolaridad.1           12093 non-null  object \n",
            " 7   Tiene_Credito?                12093 non-null  object \n",
            " 8   Medio_de_Comunicación         12093 non-null  object \n",
            " 9   Duracion_ultimo_contacto_seg  12093 non-null  int64  \n",
            " 10  Order_D4te                    12093 non-null  object \n",
            " 11  envio23$%3                    12093 non-null  object \n",
            " 12  Segment                       12093 non-null  object \n",
            " 13  Categ                         12093 non-null  object \n",
            " 14  SubCat                        12093 non-null  object \n",
            " 15  V2016                         12093 non-null  float64\n",
            " 16  V2017                         12093 non-null  float64\n",
            " 17  V2018                         12093 non-null  float64\n",
            "dtypes: float64(3), int64(2), object(13)\n",
            "memory usage: 1.7+ MB\n"
          ],
          "name": "stdout"
        }
      ]
    },
    {
      "cell_type": "code",
      "metadata": {
        "id": "elPVJThh-VGg",
        "outputId": "7be781b2-439b-4034-c993-457c8cf333ae",
        "colab": {
          "base_uri": "https://localhost:8080/",
          "height": 347
        }
      },
      "source": [
        "data.isnull().any()\n",
        "#Permite ver para cada columna del dataframe si existe algún valor nulo\n",
        "#Mostrará falso si no hay ningún valor nulo\n",
        "#Mostrará verdadero si existe al menos un registro nulo"
      ],
      "execution_count": null,
      "outputs": [
        {
          "output_type": "execute_result",
          "data": {
            "text/plain": [
              "Nombre                          False\n",
              "Edad                            False\n",
              "Tr@bajo                          True\n",
              "Trabajo                          True\n",
              "Estado_Civil                    False\n",
              "Nivel_escolaridad               False\n",
              "Nivel_escolaridad.1             False\n",
              "Tiene_Credito?                  False\n",
              "Medio_de_Comunicación           False\n",
              "Duracion_ultimo_contacto_seg    False\n",
              "Order_D4te                      False\n",
              "envio23$%3                      False\n",
              "Segment                         False\n",
              "Categ                           False\n",
              "SubCat                          False\n",
              "V2016                           False\n",
              "V2017                           False\n",
              "V2018                           False\n",
              "dtype: bool"
            ]
          },
          "metadata": {
            "tags": []
          },
          "execution_count": 23
        }
      ]
    },
    {
      "cell_type": "code",
      "metadata": {
        "id": "bjHmraaiRZZI",
        "outputId": "7fab84f3-d46d-40ce-d98b-6710c97140e2",
        "colab": {
          "base_uri": "https://localhost:8080/",
          "height": 347
        }
      },
      "source": [
        "data.isna().sum()\n",
        "#Muestra la cantidad de registros nulos de cada columna\n",
        "#También funciona así:\n",
        "#data.isnull().sum()"
      ],
      "execution_count": null,
      "outputs": [
        {
          "output_type": "execute_result",
          "data": {
            "text/plain": [
              "Nombre                           0\n",
              "Edad                             0\n",
              "Tr@bajo                         98\n",
              "Trabajo                         98\n",
              "Estado_Civil                     0\n",
              "Nivel_escolaridad                0\n",
              "Nivel_escolaridad.1              0\n",
              "Tiene_Credito?                   0\n",
              "Medio_de_Comunicación            0\n",
              "Duracion_ultimo_contacto_seg     0\n",
              "Order_D4te                       0\n",
              "envio23$%3                       0\n",
              "Segment                          1\n",
              "Categ                            1\n",
              "SubCat                           1\n",
              "V2016                            1\n",
              "V2017                            1\n",
              "V2018                            1\n",
              "dtype: int64"
            ]
          },
          "metadata": {
            "tags": []
          },
          "execution_count": 11
        }
      ]
    },
    {
      "cell_type": "code",
      "metadata": {
        "id": "tGz-e4S36Uqe",
        "outputId": "875cbb57-bb96-4324-b981-a5741af9e268",
        "colab": {
          "base_uri": "https://localhost:8080/",
          "height": 35
        }
      },
      "source": [
        "data.shape\n",
        "#Indica el tamaño del dataframe\n",
        "#(filas,columnas)"
      ],
      "execution_count": null,
      "outputs": [
        {
          "output_type": "execute_result",
          "data": {
            "text/plain": [
              "(12093, 18)"
            ]
          },
          "metadata": {
            "tags": []
          },
          "execution_count": 10
        }
      ]
    },
    {
      "cell_type": "code",
      "metadata": {
        "id": "IURFiRM36dH7",
        "outputId": "2a8281f6-b012-4197-b26e-26350fb23f15",
        "colab": {
          "base_uri": "https://localhost:8080/",
          "height": 104
        }
      },
      "source": [
        "data.columns\n",
        "#Muestra los nombres de las columnas del dataframe"
      ],
      "execution_count": null,
      "outputs": [
        {
          "output_type": "execute_result",
          "data": {
            "text/plain": [
              "Index(['Nombre', 'Edad', 'Tr@bajo', 'Trabajo', 'Estado_Civil',\n",
              "       'Nivel_escolaridad', 'Nivel_escolaridad.1', 'Tiene_Credito?',\n",
              "       'Medio_de_Comunicación', 'Duracion_ultimo_contacto_seg', 'Order_D4te',\n",
              "       'envio23$%3', 'Segment', 'Categ', 'SubCat', 'V2016', 'V2017', 'V2018'],\n",
              "      dtype='object')"
            ]
          },
          "metadata": {
            "tags": []
          },
          "execution_count": 6
        }
      ]
    },
    {
      "cell_type": "code",
      "metadata": {
        "id": "OqQeahhj6xZf",
        "outputId": "4027267e-b036-41a6-9815-ba4f8be1c077",
        "colab": {
          "base_uri": "https://localhost:8080/",
          "height": 294
        }
      },
      "source": [
        "data.describe()\n",
        "\n",
        "#Genera estadísticas descriptivas incluyendo aquellas que resumen \n",
        "# la tendencia central, la dispersión y la forma de la distribución de un \n",
        "#conjunto de datos, excluyendo los valores de NaN."
      ],
      "execution_count": null,
      "outputs": [
        {
          "output_type": "execute_result",
          "data": {
            "text/html": [
              "<div>\n",
              "<style scoped>\n",
              "    .dataframe tbody tr th:only-of-type {\n",
              "        vertical-align: middle;\n",
              "    }\n",
              "\n",
              "    .dataframe tbody tr th {\n",
              "        vertical-align: top;\n",
              "    }\n",
              "\n",
              "    .dataframe thead th {\n",
              "        text-align: right;\n",
              "    }\n",
              "</style>\n",
              "<table border=\"1\" class=\"dataframe\">\n",
              "  <thead>\n",
              "    <tr style=\"text-align: right;\">\n",
              "      <th></th>\n",
              "      <th>Edad</th>\n",
              "      <th>Duracion_ultimo_contacto_seg</th>\n",
              "      <th>V2016</th>\n",
              "      <th>V2017</th>\n",
              "      <th>V2018</th>\n",
              "    </tr>\n",
              "  </thead>\n",
              "  <tbody>\n",
              "    <tr>\n",
              "      <th>count</th>\n",
              "      <td>12050.000000</td>\n",
              "      <td>12050.000000</td>\n",
              "      <td>12049.000000</td>\n",
              "      <td>12049.000000</td>\n",
              "      <td>12049.000000</td>\n",
              "    </tr>\n",
              "    <tr>\n",
              "      <th>mean</th>\n",
              "      <td>36.761577</td>\n",
              "      <td>210.417178</td>\n",
              "      <td>55.268570</td>\n",
              "      <td>495.046362</td>\n",
              "      <td>503.220365</td>\n",
              "    </tr>\n",
              "    <tr>\n",
              "      <th>std</th>\n",
              "      <td>14.134405</td>\n",
              "      <td>239.633278</td>\n",
              "      <td>57.674374</td>\n",
              "      <td>289.715941</td>\n",
              "      <td>289.976062</td>\n",
              "    </tr>\n",
              "    <tr>\n",
              "      <th>min</th>\n",
              "      <td>2.000000</td>\n",
              "      <td>1.000000</td>\n",
              "      <td>1.002000</td>\n",
              "      <td>1.054000</td>\n",
              "      <td>1.091000</td>\n",
              "    </tr>\n",
              "    <tr>\n",
              "      <th>25%</th>\n",
              "      <td>31.000000</td>\n",
              "      <td>57.000000</td>\n",
              "      <td>27.048000</td>\n",
              "      <td>243.769000</td>\n",
              "      <td>250.136000</td>\n",
              "    </tr>\n",
              "    <tr>\n",
              "      <th>50%</th>\n",
              "      <td>38.000000</td>\n",
              "      <td>147.000000</td>\n",
              "      <td>52.102000</td>\n",
              "      <td>488.121000</td>\n",
              "      <td>504.674000</td>\n",
              "    </tr>\n",
              "    <tr>\n",
              "      <th>75%</th>\n",
              "      <td>46.000000</td>\n",
              "      <td>268.000000</td>\n",
              "      <td>76.225000</td>\n",
              "      <td>749.219000</td>\n",
              "      <td>755.638000</td>\n",
              "    </tr>\n",
              "    <tr>\n",
              "      <th>max</th>\n",
              "      <td>61.000000</td>\n",
              "      <td>3881.000000</td>\n",
              "      <td>996.000000</td>\n",
              "      <td>999.510000</td>\n",
              "      <td>999.576000</td>\n",
              "    </tr>\n",
              "  </tbody>\n",
              "</table>\n",
              "</div>"
            ],
            "text/plain": [
              "               Edad  Duracion_ultimo_contacto_seg  ...         V2017         V2018\n",
              "count  12050.000000                  12050.000000  ...  12049.000000  12049.000000\n",
              "mean      36.761577                    210.417178  ...    495.046362    503.220365\n",
              "std       14.134405                    239.633278  ...    289.715941    289.976062\n",
              "min        2.000000                      1.000000  ...      1.054000      1.091000\n",
              "25%       31.000000                     57.000000  ...    243.769000    250.136000\n",
              "50%       38.000000                    147.000000  ...    488.121000    504.674000\n",
              "75%       46.000000                    268.000000  ...    749.219000    755.638000\n",
              "max       61.000000                   3881.000000  ...    999.510000    999.576000\n",
              "\n",
              "[8 rows x 5 columns]"
            ]
          },
          "metadata": {
            "tags": []
          },
          "execution_count": 7
        }
      ]
    },
    {
      "cell_type": "markdown",
      "metadata": {
        "id": "pLLwyH1bNmvB"
      },
      "source": [
        "Para seleccionar **una** columna del dataframe ponemos entre corchetes [ ] y comillas simples o dobles \"\" el nombre de la columna que queremos, así:\n",
        "```\n",
        "nombre_dataframe['Nombre_Columna']\n",
        "```\n",
        "\n",
        "\n"
      ]
    },
    {
      "cell_type": "code",
      "metadata": {
        "id": "dgS5jmTgOQFP",
        "outputId": "145c5631-0d5c-47be-bc38-f662b4a1265f",
        "colab": {
          "base_uri": "https://localhost:8080/",
          "height": 121
        }
      },
      "source": [
        "#Aquí seleccionaremos los primeros 5 resgistros de la columna trabajo\n",
        "data['Trabajo'].head()"
      ],
      "execution_count": null,
      "outputs": [
        {
          "output_type": "execute_result",
          "data": {
            "text/plain": [
              "0      management\n",
              "1      technician\n",
              "2    entrepreneur\n",
              "3     blue-collar\n",
              "4             NaN\n",
              "Name: Trabajo, dtype: object"
            ]
          },
          "metadata": {
            "tags": []
          },
          "execution_count": 8
        }
      ]
    },
    {
      "cell_type": "markdown",
      "metadata": {
        "id": "9rbeCBtpOPZh"
      },
      "source": [
        "Los siguientes análisis se aplicarán en la columna ***Trabajo*** del dataframe"
      ]
    },
    {
      "cell_type": "code",
      "metadata": {
        "id": "Oe5Bk9o97UEM",
        "outputId": "446ac2a6-198d-4509-bd3c-2a0ac39c1376",
        "colab": {
          "base_uri": "https://localhost:8080/",
          "height": 243
        }
      },
      "source": [
        "data['Trabajo'].value_counts(dropna=False)\n",
        "\n",
        "#Muestra el recuento de valores únicos en orden descendente, de modo que \n",
        "#el primer elemento sea el que se presente con mayor frecuencia. \n",
        "#Excluye los valores NA por defecto, por lo que se incluye el argumento\n",
        "# dropna = False para que muestre también la cantidad de valores nulos"
      ],
      "execution_count": null,
      "outputs": [
        {
          "output_type": "execute_result",
          "data": {
            "text/plain": [
              "blue-collar      3741\n",
              "management       1813\n",
              "technician       1737\n",
              "admin.           1406\n",
              "services         1321\n",
              "retired           444\n",
              "entrepreneur      421\n",
              "self-employed     360\n",
              "housemaid         316\n",
              "unemployed        282\n",
              "student           111\n",
              "NaN                98\n",
              "Name: Trabajo, dtype: int64"
            ]
          },
          "metadata": {
            "tags": []
          },
          "execution_count": 10
        }
      ]
    },
    {
      "cell_type": "code",
      "metadata": {
        "id": "4Ivx_SS89X4Y",
        "outputId": "94193f9b-c139-4beb-c148-d98a6c50944f",
        "colab": {
          "base_uri": "https://localhost:8080/",
          "height": 69
        }
      },
      "source": [
        "data['Trabajo'].unique()\n",
        "\n",
        "#Muestra los valores únicos de las columnas por orden de apareción\n",
        "#Esto NO ordena."
      ],
      "execution_count": null,
      "outputs": [
        {
          "output_type": "execute_result",
          "data": {
            "text/plain": [
              "array(['management', 'technician', 'entrepreneur', 'blue-collar', nan,\n",
              "       'retired', 'admin.', 'services', 'self-employed', 'unemployed',\n",
              "       'housemaid', 'student'], dtype=object)"
            ]
          },
          "metadata": {
            "tags": []
          },
          "execution_count": 18
        }
      ]
    },
    {
      "cell_type": "code",
      "metadata": {
        "id": "Sk0gMZoV9wcH",
        "outputId": "b8b951ce-3dca-47b9-8b3e-67bfa096af1e",
        "colab": {
          "base_uri": "https://localhost:8080/",
          "height": 35
        }
      },
      "source": [
        "data['Trabajo'].nunique(dropna=False)\n",
        "\n",
        "#Cuenta los valores únicos de las columnas, ignorando los valores nulos\n",
        "# se incluye el argumento dropna = False\n",
        "# para que considere también los valores nulos\n"
      ],
      "execution_count": null,
      "outputs": [
        {
          "output_type": "execute_result",
          "data": {
            "text/plain": [
              "12"
            ]
          },
          "metadata": {
            "tags": []
          },
          "execution_count": 21
        }
      ]
    },
    {
      "cell_type": "markdown",
      "metadata": {
        "id": "Wo4lVNsE_mfa"
      },
      "source": [
        "# Limpieza (parte 1)"
      ]
    },
    {
      "cell_type": "markdown",
      "metadata": {
        "id": "L5M7scQYQpV8"
      },
      "source": [
        "Ya que la cantidad de nulos es muy poca los eliminaremos del dataframe. \n",
        "\n",
        "Para hacerlo es necesario sobre escribir el dataframe actual"
      ]
    },
    {
      "cell_type": "code",
      "metadata": {
        "id": "rsvWcZGZ-RBx"
      },
      "source": [
        "data = data.dropna()\n",
        "\n",
        "#Al escribir 'data =' estamos sobrescribiendo el dataframe\n",
        "\n",
        "#dropna nos permite eliminar las filas del dataframe donde existen valores nulos"
      ],
      "execution_count": null,
      "outputs": []
    },
    {
      "cell_type": "code",
      "metadata": {
        "id": "8i4h81HWBBZP",
        "outputId": "47e45123-ce30-4268-b38e-4e545ac79598",
        "colab": {
          "base_uri": "https://localhost:8080/",
          "height": 35
        }
      },
      "source": [
        "data.shape\n",
        "#Observamos que nuestro dataframe tiene menos filas respecto al incio del ejercicio"
      ],
      "execution_count": null,
      "outputs": [
        {
          "output_type": "execute_result",
          "data": {
            "text/plain": [
              "(11951, 18)"
            ]
          },
          "metadata": {
            "tags": []
          },
          "execution_count": 15
        }
      ]
    },
    {
      "cell_type": "code",
      "metadata": {
        "id": "n2dcPlZbACV8",
        "outputId": "c0b8f710-781c-4ce9-d95c-9f20ff2669ae",
        "colab": {
          "base_uri": "https://localhost:8080/",
          "height": 347
        }
      },
      "source": [
        "data.isnull().any()\n",
        "#Observamos también que ya todas las columnas están en 'Falso'\n",
        "#lo que indica que ninguna tiene valores nulos"
      ],
      "execution_count": null,
      "outputs": [
        {
          "output_type": "execute_result",
          "data": {
            "text/plain": [
              "Nombre                          False\n",
              "Edad                            False\n",
              "Tr@bajo                         False\n",
              "Trabajo                         False\n",
              "Estado_Civil                    False\n",
              "Nivel_escolaridad               False\n",
              "Nivel_escolaridad.1             False\n",
              "Tiene_Credito?                  False\n",
              "Medio_de_Comunicación           False\n",
              "Duracion_ultimo_contacto_seg    False\n",
              "Order_D4te                      False\n",
              "envio23$%3                      False\n",
              "Segment                         False\n",
              "Categ                           False\n",
              "SubCat                          False\n",
              "V2016                           False\n",
              "V2017                           False\n",
              "V2018                           False\n",
              "dtype: bool"
            ]
          },
          "metadata": {
            "tags": []
          },
          "execution_count": 16
        }
      ]
    },
    {
      "cell_type": "code",
      "metadata": {
        "id": "TYqZzAnsAN6R",
        "outputId": "dba43efe-edad-4ecf-e302-afb7bdf1a8fe",
        "colab": {
          "base_uri": "https://localhost:8080/",
          "height": 347
        }
      },
      "source": [
        "data.isnull().sum()\n",
        "#Aquí también vemos que ya no existen valores nulos"
      ],
      "execution_count": null,
      "outputs": [
        {
          "output_type": "execute_result",
          "data": {
            "text/plain": [
              "Nombre                          0\n",
              "Edad                            0\n",
              "Tr@bajo                         0\n",
              "Trabajo                         0\n",
              "Estado_Civil                    0\n",
              "Nivel_escolaridad               0\n",
              "Nivel_escolaridad.1             0\n",
              "Tiene_Credito?                  0\n",
              "Medio_de_Comunicación           0\n",
              "Duracion_ultimo_contacto_seg    0\n",
              "Order_D4te                      0\n",
              "envio23$%3                      0\n",
              "Segment                         0\n",
              "Categ                           0\n",
              "SubCat                          0\n",
              "V2016                           0\n",
              "V2017                           0\n",
              "V2018                           0\n",
              "dtype: int64"
            ]
          },
          "metadata": {
            "tags": []
          },
          "execution_count": 17
        }
      ]
    },
    {
      "cell_type": "code",
      "metadata": {
        "id": "Ek22Dx87AmG4",
        "outputId": "1e5d14c4-a723-44df-eeef-9b830fbb1f13",
        "colab": {
          "base_uri": "https://localhost:8080/",
          "height": 35
        }
      },
      "source": [
        "data['Medio_de_Comunicación'].unique()\n",
        "#Vemos los valores únicos de la columna 'medio de comunicación'"
      ],
      "execution_count": null,
      "outputs": [
        {
          "output_type": "execute_result",
          "data": {
            "text/plain": [
              "array(['unknown'], dtype=object)"
            ]
          },
          "metadata": {
            "tags": []
          },
          "execution_count": 27
        }
      ]
    },
    {
      "cell_type": "markdown",
      "metadata": {
        "id": "XF_6LCgHYZQE"
      },
      "source": [
        "### Como seleccionar una parte del dataframe"
      ]
    },
    {
      "cell_type": "markdown",
      "metadata": {
        "id": "yTkwG4STR-Jc"
      },
      "source": [
        "Ahora vamos a elimar las columnas que están duplicadas o que no aportan a nuestro análisis\n",
        "\n",
        "Para hacerlo, primero debemos aprender a filtrar el data set.\n",
        "\n",
        "El método ***.loc[ ]*** que se usa así:\n",
        "```\n",
        "nombre_dataframe.loc[ ]\n",
        "```\n",
        "nos ayuda a hacerlo. Dentro de los corchetes indicaremos la cantidad de filas y columnas que deseamos seleccionar.\n",
        "```\n",
        "nombre_dataframe.loc[filas, columnas]\n",
        "```\n",
        "\n"
      ]
    },
    {
      "cell_type": "markdown",
      "metadata": {
        "id": "3sONKtqzTBX1"
      },
      "source": [
        "**Ejemplos**"
      ]
    },
    {
      "cell_type": "code",
      "metadata": {
        "id": "K4ZFJnkqS-9b",
        "outputId": "c6258b37-2902-45a7-dee8-3ad67120b1a2",
        "colab": {
          "base_uri": "https://localhost:8080/",
          "height": 695
        }
      },
      "source": [
        "#Para seleccionar todas las filas y todas las columnas usamos dos puntos:\n",
        "data.loc[:,:]"
      ],
      "execution_count": null,
      "outputs": [
        {
          "output_type": "execute_result",
          "data": {
            "text/html": [
              "<div>\n",
              "<style scoped>\n",
              "    .dataframe tbody tr th:only-of-type {\n",
              "        vertical-align: middle;\n",
              "    }\n",
              "\n",
              "    .dataframe tbody tr th {\n",
              "        vertical-align: top;\n",
              "    }\n",
              "\n",
              "    .dataframe thead th {\n",
              "        text-align: right;\n",
              "    }\n",
              "</style>\n",
              "<table border=\"1\" class=\"dataframe\">\n",
              "  <thead>\n",
              "    <tr style=\"text-align: right;\">\n",
              "      <th></th>\n",
              "      <th>Nombre</th>\n",
              "      <th>Edad</th>\n",
              "      <th>Tr@bajo</th>\n",
              "      <th>Trabajo</th>\n",
              "      <th>Estado_Civil</th>\n",
              "      <th>Nivel_escolaridad</th>\n",
              "      <th>Nivel_escolaridad.1</th>\n",
              "      <th>Tiene_Credito?</th>\n",
              "      <th>Medio_de_Comunicación</th>\n",
              "      <th>Duracion_ultimo_contacto_seg</th>\n",
              "      <th>Order_D4te</th>\n",
              "      <th>envio23$%3</th>\n",
              "      <th>Segment</th>\n",
              "      <th>Categ</th>\n",
              "      <th>SubCat</th>\n",
              "      <th>V2016</th>\n",
              "      <th>V2017</th>\n",
              "      <th>V2018</th>\n",
              "    </tr>\n",
              "  </thead>\n",
              "  <tbody>\n",
              "    <tr>\n",
              "      <th>0</th>\n",
              "      <td>ketty-elvira/niño-calderon</td>\n",
              "      <td>58</td>\n",
              "      <td>management</td>\n",
              "      <td>management</td>\n",
              "      <td>married</td>\n",
              "      <td>tertiary</td>\n",
              "      <td>tertiary</td>\n",
              "      <td>no</td>\n",
              "      <td>unknown</td>\n",
              "      <td>261</td>\n",
              "      <td>13/09/17</td>\n",
              "      <td>Regular</td>\n",
              "      <td>Hogares</td>\n",
              "      <td>Tecnología</td>\n",
              "      <td>Cuadernos</td>\n",
              "      <td>22.483</td>\n",
              "      <td>490.004</td>\n",
              "      <td>669.895</td>\n",
              "    </tr>\n",
              "    <tr>\n",
              "      <th>1</th>\n",
              "      <td>yanira-pilar/garcia-barreto</td>\n",
              "      <td>44</td>\n",
              "      <td>technician</td>\n",
              "      <td>technician</td>\n",
              "      <td>single</td>\n",
              "      <td>secondary</td>\n",
              "      <td>secondary</td>\n",
              "      <td>no</td>\n",
              "      <td>unknown</td>\n",
              "      <td>151</td>\n",
              "      <td>25/03/18</td>\n",
              "      <td>Express_Aire</td>\n",
              "      <td>Corporativo</td>\n",
              "      <td>Muebles</td>\n",
              "      <td>Lapiceros_y_Marcadores</td>\n",
              "      <td>52.225</td>\n",
              "      <td>361.837</td>\n",
              "      <td>245.154</td>\n",
              "    </tr>\n",
              "    <tr>\n",
              "      <th>2</th>\n",
              "      <td>milton-marina/hernandez-vega</td>\n",
              "      <td>33</td>\n",
              "      <td>entrepreneur</td>\n",
              "      <td>entrepreneur</td>\n",
              "      <td>married</td>\n",
              "      <td>secondary</td>\n",
              "      <td>secondary</td>\n",
              "      <td>no</td>\n",
              "      <td>unknown</td>\n",
              "      <td>76</td>\n",
              "      <td>26/09/17</td>\n",
              "      <td>Express_Aire</td>\n",
              "      <td>Corporativo</td>\n",
              "      <td>Suplementos_Oficina</td>\n",
              "      <td>Papel</td>\n",
              "      <td>90.924</td>\n",
              "      <td>903.292</td>\n",
              "      <td>166.285</td>\n",
              "    </tr>\n",
              "    <tr>\n",
              "      <th>3</th>\n",
              "      <td>rocio-constanza/mora-lopez</td>\n",
              "      <td>47</td>\n",
              "      <td>blue-collar</td>\n",
              "      <td>blue-collar</td>\n",
              "      <td>married</td>\n",
              "      <td>No informa</td>\n",
              "      <td>No informa</td>\n",
              "      <td>no</td>\n",
              "      <td>unknown</td>\n",
              "      <td>92</td>\n",
              "      <td>14/07/16</td>\n",
              "      <td>Regular</td>\n",
              "      <td>Startups</td>\n",
              "      <td>Suplementos_Oficina</td>\n",
              "      <td>Reglas_tijeras</td>\n",
              "      <td>2.681</td>\n",
              "      <td>823.176</td>\n",
              "      <td>13.273</td>\n",
              "    </tr>\n",
              "    <tr>\n",
              "      <th>5</th>\n",
              "      <td>claudia-stella/lopez-montoya</td>\n",
              "      <td>35</td>\n",
              "      <td>management</td>\n",
              "      <td>management</td>\n",
              "      <td>married</td>\n",
              "      <td>tertiary</td>\n",
              "      <td>tertiary</td>\n",
              "      <td>no</td>\n",
              "      <td>unknown</td>\n",
              "      <td>139</td>\n",
              "      <td>17/07/18</td>\n",
              "      <td>Express_Aire</td>\n",
              "      <td>Corporativo</td>\n",
              "      <td>Suplementos_Oficina</td>\n",
              "      <td>Papel</td>\n",
              "      <td>25.144</td>\n",
              "      <td>263.574</td>\n",
              "      <td>183.894</td>\n",
              "    </tr>\n",
              "    <tr>\n",
              "      <th>...</th>\n",
              "      <td>...</td>\n",
              "      <td>...</td>\n",
              "      <td>...</td>\n",
              "      <td>...</td>\n",
              "      <td>...</td>\n",
              "      <td>...</td>\n",
              "      <td>...</td>\n",
              "      <td>...</td>\n",
              "      <td>...</td>\n",
              "      <td>...</td>\n",
              "      <td>...</td>\n",
              "      <td>...</td>\n",
              "      <td>...</td>\n",
              "      <td>...</td>\n",
              "      <td>...</td>\n",
              "      <td>...</td>\n",
              "      <td>...</td>\n",
              "      <td>...</td>\n",
              "    </tr>\n",
              "    <tr>\n",
              "      <th>12044</th>\n",
              "      <td>monica-patricia/trujillo-segura</td>\n",
              "      <td>32</td>\n",
              "      <td>blue-collar</td>\n",
              "      <td>blue-collar</td>\n",
              "      <td>married</td>\n",
              "      <td>primary</td>\n",
              "      <td>primary</td>\n",
              "      <td>no</td>\n",
              "      <td>unknown</td>\n",
              "      <td>8</td>\n",
              "      <td>28/11/16</td>\n",
              "      <td>Express_Tierra</td>\n",
              "      <td>Startups</td>\n",
              "      <td>Suplementos_Oficina</td>\n",
              "      <td>Almacenaje</td>\n",
              "      <td>31.058</td>\n",
              "      <td>510.900</td>\n",
              "      <td>582.269</td>\n",
              "    </tr>\n",
              "    <tr>\n",
              "      <th>12045</th>\n",
              "      <td>diana-helena/lozada-rodriguez</td>\n",
              "      <td>39</td>\n",
              "      <td>blue-collar</td>\n",
              "      <td>blue-collar</td>\n",
              "      <td>married</td>\n",
              "      <td>secondary</td>\n",
              "      <td>secondary</td>\n",
              "      <td>no</td>\n",
              "      <td>unknown</td>\n",
              "      <td>78</td>\n",
              "      <td>29/12/16</td>\n",
              "      <td>Regular</td>\n",
              "      <td>Hogares</td>\n",
              "      <td>Muebles</td>\n",
              "      <td>Libreros</td>\n",
              "      <td>34.929</td>\n",
              "      <td>162.553</td>\n",
              "      <td>618.894</td>\n",
              "    </tr>\n",
              "    <tr>\n",
              "      <th>12046</th>\n",
              "      <td>fermin-mercedes/bolivar-garay</td>\n",
              "      <td>53</td>\n",
              "      <td>retired</td>\n",
              "      <td>retired</td>\n",
              "      <td>divorced</td>\n",
              "      <td>secondary</td>\n",
              "      <td>secondary</td>\n",
              "      <td>no</td>\n",
              "      <td>unknown</td>\n",
              "      <td>14</td>\n",
              "      <td>12/11/16</td>\n",
              "      <td>Bajo</td>\n",
              "      <td>Personas</td>\n",
              "      <td>Muebles</td>\n",
              "      <td>Muebles</td>\n",
              "      <td>6.438</td>\n",
              "      <td>388.493</td>\n",
              "      <td>249.875</td>\n",
              "    </tr>\n",
              "    <tr>\n",
              "      <th>12047</th>\n",
              "      <td>gloria-/diaz-rincon</td>\n",
              "      <td>35</td>\n",
              "      <td>services</td>\n",
              "      <td>services</td>\n",
              "      <td>married</td>\n",
              "      <td>secondary</td>\n",
              "      <td>secondary</td>\n",
              "      <td>no</td>\n",
              "      <td>unknown</td>\n",
              "      <td>59</td>\n",
              "      <td>5/08/17</td>\n",
              "      <td>Regular</td>\n",
              "      <td>Hogares</td>\n",
              "      <td>Suplementos_Oficina</td>\n",
              "      <td>Mesas</td>\n",
              "      <td>91.604</td>\n",
              "      <td>97.243</td>\n",
              "      <td>503.251</td>\n",
              "    </tr>\n",
              "    <tr>\n",
              "      <th>12048</th>\n",
              "      <td>larisa-/acosta-torres</td>\n",
              "      <td>49</td>\n",
              "      <td>technician</td>\n",
              "      <td>technician</td>\n",
              "      <td>married</td>\n",
              "      <td>tertiary</td>\n",
              "      <td>tertiary</td>\n",
              "      <td>no</td>\n",
              "      <td>unknown</td>\n",
              "      <td>1</td>\n",
              "      <td>12/09/16</td>\n",
              "      <td>Bajo</td>\n",
              "      <td>Startups</td>\n",
              "      <td>Muebles</td>\n",
              "      <td>Tecnología</td>\n",
              "      <td>23.681</td>\n",
              "      <td>98.325</td>\n",
              "      <td>425.908</td>\n",
              "    </tr>\n",
              "  </tbody>\n",
              "</table>\n",
              "<p>11951 rows × 18 columns</p>\n",
              "</div>"
            ],
            "text/plain": [
              "                                Nombre  Edad  ...    V2017    V2018\n",
              "0           ketty-elvira/niño-calderon    58  ...  490.004  669.895\n",
              "1          yanira-pilar/garcia-barreto    44  ...  361.837  245.154\n",
              "2         milton-marina/hernandez-vega    33  ...  903.292  166.285\n",
              "3           rocio-constanza/mora-lopez    47  ...  823.176   13.273\n",
              "5         claudia-stella/lopez-montoya    35  ...  263.574  183.894\n",
              "...                                ...   ...  ...      ...      ...\n",
              "12044  monica-patricia/trujillo-segura    32  ...  510.900  582.269\n",
              "12045    diana-helena/lozada-rodriguez    39  ...  162.553  618.894\n",
              "12046    fermin-mercedes/bolivar-garay    53  ...  388.493  249.875\n",
              "12047              gloria-/diaz-rincon    35  ...   97.243  503.251\n",
              "12048            larisa-/acosta-torres    49  ...   98.325  425.908\n",
              "\n",
              "[11951 rows x 18 columns]"
            ]
          },
          "metadata": {
            "tags": []
          },
          "execution_count": 18
        }
      ]
    },
    {
      "cell_type": "code",
      "metadata": {
        "id": "evHpAHETTOQo",
        "outputId": "db04dbf2-6ff4-4b11-f35c-6be023c299dd",
        "colab": {
          "base_uri": "https://localhost:8080/",
          "height": 347
        }
      },
      "source": [
        "#Para seleccionar la segunda fila (o sea la fila con índice 1) ponemos 1\n",
        "# y para todas las columnas usamos dos puntos:\n",
        "data.loc[1,:]"
      ],
      "execution_count": null,
      "outputs": [
        {
          "output_type": "execute_result",
          "data": {
            "text/plain": [
              "Nombre                          yanira-pilar/garcia-barreto\n",
              "Edad                                                     44\n",
              "Tr@bajo                                          technician\n",
              "Trabajo                                          technician\n",
              "Estado_Civil                                         single\n",
              "Nivel_escolaridad                                 secondary\n",
              "Nivel_escolaridad.1                               secondary\n",
              "Tiene_Credito?                                           no\n",
              "Medio_de_Comunicación                               unknown\n",
              "Duracion_ultimo_contacto_seg                            151\n",
              "Order_D4te                                         25/03/18\n",
              "envio23$%3                                     Express_Aire\n",
              "Segment                                         Corporativo\n",
              "Categ                                               Muebles\n",
              "SubCat                               Lapiceros_y_Marcadores\n",
              "V2016                                                52.225\n",
              "V2017                                               361.837\n",
              "V2018                                               245.154\n",
              "Name: 1, dtype: object"
            ]
          },
          "metadata": {
            "tags": []
          },
          "execution_count": 19
        }
      ]
    },
    {
      "cell_type": "markdown",
      "metadata": {
        "id": "dTQhAbuxTfQi"
      },
      "source": [
        "**Seleccionar un rango de filas:**\n",
        "\n",
        "Si quiero seleccionar un rango de filas se realiza indicando los índices de los registros, es decir los números que aparecen en la primera columna del dataframe y cuya columna no tiene nombre. Para filtrar todas las columnas seguimos usando los dos puntos (:), así:\n",
        "```\n",
        "nombre_dataframe[índice_incio , índice_fin : ]\n",
        "```\n",
        "**Nota:**\n",
        "Si quiero filtrar desde el inicio o hasta el final no es necesario indicar el índice.\n",
        "\n",
        "Ejemplo:\n",
        "\n",
        "\n",
        "*   Desde el índice 400 hasta el final\n",
        "```\n",
        "nombre_dataframe.loc[400:, :]\n",
        "```\n",
        "*   Desde el inico hasta el índice 30\n",
        "```\n",
        "nombre_dataframe.loc[:30, :]\n",
        "```"
      ]
    },
    {
      "cell_type": "code",
      "metadata": {
        "id": "4cyvODLAT1-k",
        "outputId": "edbb8751-9e32-47ad-cf1b-7d155a94cbe3",
        "colab": {
          "base_uri": "https://localhost:8080/",
          "height": 457
        }
      },
      "source": [
        "#Voy a filtrar los índices del 3 al 10 y todas las columnas\n",
        "\n",
        "data.loc[3:10,:]"
      ],
      "execution_count": null,
      "outputs": [
        {
          "output_type": "execute_result",
          "data": {
            "text/html": [
              "<div>\n",
              "<style scoped>\n",
              "    .dataframe tbody tr th:only-of-type {\n",
              "        vertical-align: middle;\n",
              "    }\n",
              "\n",
              "    .dataframe tbody tr th {\n",
              "        vertical-align: top;\n",
              "    }\n",
              "\n",
              "    .dataframe thead th {\n",
              "        text-align: right;\n",
              "    }\n",
              "</style>\n",
              "<table border=\"1\" class=\"dataframe\">\n",
              "  <thead>\n",
              "    <tr style=\"text-align: right;\">\n",
              "      <th></th>\n",
              "      <th>Nombre</th>\n",
              "      <th>Edad</th>\n",
              "      <th>Tr@bajo</th>\n",
              "      <th>Trabajo</th>\n",
              "      <th>Estado_Civil</th>\n",
              "      <th>Nivel_escolaridad</th>\n",
              "      <th>Nivel_escolaridad.1</th>\n",
              "      <th>Tiene_Credito?</th>\n",
              "      <th>Medio_de_Comunicación</th>\n",
              "      <th>Duracion_ultimo_contacto_seg</th>\n",
              "      <th>Order_D4te</th>\n",
              "      <th>envio23$%3</th>\n",
              "      <th>Segment</th>\n",
              "      <th>Categ</th>\n",
              "      <th>SubCat</th>\n",
              "      <th>V2016</th>\n",
              "      <th>V2017</th>\n",
              "      <th>V2018</th>\n",
              "    </tr>\n",
              "  </thead>\n",
              "  <tbody>\n",
              "    <tr>\n",
              "      <th>3</th>\n",
              "      <td>rocio-constanza/mora-lopez</td>\n",
              "      <td>47</td>\n",
              "      <td>blue-collar</td>\n",
              "      <td>blue-collar</td>\n",
              "      <td>married</td>\n",
              "      <td>No informa</td>\n",
              "      <td>No informa</td>\n",
              "      <td>no</td>\n",
              "      <td>unknown</td>\n",
              "      <td>92</td>\n",
              "      <td>14/07/16</td>\n",
              "      <td>Regular</td>\n",
              "      <td>Startups</td>\n",
              "      <td>Suplementos_Oficina</td>\n",
              "      <td>Reglas_tijeras</td>\n",
              "      <td>2.681</td>\n",
              "      <td>823.176</td>\n",
              "      <td>13.273</td>\n",
              "    </tr>\n",
              "    <tr>\n",
              "      <th>5</th>\n",
              "      <td>claudia-stella/lopez-montoya</td>\n",
              "      <td>35</td>\n",
              "      <td>management</td>\n",
              "      <td>management</td>\n",
              "      <td>married</td>\n",
              "      <td>tertiary</td>\n",
              "      <td>tertiary</td>\n",
              "      <td>no</td>\n",
              "      <td>unknown</td>\n",
              "      <td>139</td>\n",
              "      <td>17/07/18</td>\n",
              "      <td>Express_Aire</td>\n",
              "      <td>Corporativo</td>\n",
              "      <td>Suplementos_Oficina</td>\n",
              "      <td>Papel</td>\n",
              "      <td>25.144</td>\n",
              "      <td>263.574</td>\n",
              "      <td>183.894</td>\n",
              "    </tr>\n",
              "    <tr>\n",
              "      <th>6</th>\n",
              "      <td>#¿NOMBRE?</td>\n",
              "      <td>28</td>\n",
              "      <td>management</td>\n",
              "      <td>management</td>\n",
              "      <td>single</td>\n",
              "      <td>tertiary</td>\n",
              "      <td>tertiary</td>\n",
              "      <td>no</td>\n",
              "      <td>unknown</td>\n",
              "      <td>217</td>\n",
              "      <td>2/01/16</td>\n",
              "      <td>Express_Tierra</td>\n",
              "      <td>Personas</td>\n",
              "      <td>Suplementos_Oficina</td>\n",
              "      <td>Maquinas_Oficina</td>\n",
              "      <td>685.000</td>\n",
              "      <td>869.217</td>\n",
              "      <td>230.038</td>\n",
              "    </tr>\n",
              "    <tr>\n",
              "      <th>7</th>\n",
              "      <td>ayda-patricia/forero-torres</td>\n",
              "      <td>42</td>\n",
              "      <td>entrepreneur</td>\n",
              "      <td>entrepreneur</td>\n",
              "      <td>divorced</td>\n",
              "      <td>tertiary</td>\n",
              "      <td>tertiary</td>\n",
              "      <td>yes</td>\n",
              "      <td>unknown</td>\n",
              "      <td>38</td>\n",
              "      <td>8/02/18</td>\n",
              "      <td>Express_Tierra</td>\n",
              "      <td>Personas</td>\n",
              "      <td>Suplementos_Oficina</td>\n",
              "      <td>Sillas</td>\n",
              "      <td>91.288</td>\n",
              "      <td>490.689</td>\n",
              "      <td>242.102</td>\n",
              "    </tr>\n",
              "    <tr>\n",
              "      <th>8</th>\n",
              "      <td>sandra-ivan/bolivar-lemus</td>\n",
              "      <td>58</td>\n",
              "      <td>retired</td>\n",
              "      <td>retired</td>\n",
              "      <td>married</td>\n",
              "      <td>primary</td>\n",
              "      <td>primary</td>\n",
              "      <td>no</td>\n",
              "      <td>unknown</td>\n",
              "      <td>5</td>\n",
              "      <td>18/05/18</td>\n",
              "      <td>Regular</td>\n",
              "      <td>Startups</td>\n",
              "      <td>Tecnología</td>\n",
              "      <td>Papel</td>\n",
              "      <td>76.319</td>\n",
              "      <td>158.927</td>\n",
              "      <td>948.683</td>\n",
              "    </tr>\n",
              "    <tr>\n",
              "      <th>9</th>\n",
              "      <td>rosa-/bautista-laverde</td>\n",
              "      <td>43</td>\n",
              "      <td>technician</td>\n",
              "      <td>technician</td>\n",
              "      <td>single</td>\n",
              "      <td>secondary</td>\n",
              "      <td>secondary</td>\n",
              "      <td>no</td>\n",
              "      <td>unknown</td>\n",
              "      <td>55</td>\n",
              "      <td>18/08/17</td>\n",
              "      <td>Regular</td>\n",
              "      <td>Personas</td>\n",
              "      <td>Suplementos_Oficina</td>\n",
              "      <td>Accesorios</td>\n",
              "      <td>35.677</td>\n",
              "      <td>204.282</td>\n",
              "      <td>9.592</td>\n",
              "    </tr>\n",
              "    <tr>\n",
              "      <th>10</th>\n",
              "      <td>elizabeth-/cera-mahecha</td>\n",
              "      <td>41</td>\n",
              "      <td>admin.</td>\n",
              "      <td>admin.</td>\n",
              "      <td>divorced</td>\n",
              "      <td>secondary</td>\n",
              "      <td>secondary</td>\n",
              "      <td>no</td>\n",
              "      <td>unknown</td>\n",
              "      <td>222</td>\n",
              "      <td>30/05/17</td>\n",
              "      <td>Regular</td>\n",
              "      <td>Personas</td>\n",
              "      <td>Suplementos_Oficina</td>\n",
              "      <td>Papel</td>\n",
              "      <td>85.080</td>\n",
              "      <td>441.630</td>\n",
              "      <td>536.436</td>\n",
              "    </tr>\n",
              "  </tbody>\n",
              "</table>\n",
              "</div>"
            ],
            "text/plain": [
              "                          Nombre  Edad       Tr@bajo  ...    V2016    V2017    V2018\n",
              "3     rocio-constanza/mora-lopez    47   blue-collar  ...    2.681  823.176   13.273\n",
              "5   claudia-stella/lopez-montoya    35    management  ...   25.144  263.574  183.894\n",
              "6                      #¿NOMBRE?    28    management  ...  685.000  869.217  230.038\n",
              "7    ayda-patricia/forero-torres    42  entrepreneur  ...   91.288  490.689  242.102\n",
              "8      sandra-ivan/bolivar-lemus    58       retired  ...   76.319  158.927  948.683\n",
              "9         rosa-/bautista-laverde    43    technician  ...   35.677  204.282    9.592\n",
              "10       elizabeth-/cera-mahecha    41        admin.  ...   85.080  441.630  536.436\n",
              "\n",
              "[7 rows x 18 columns]"
            ]
          },
          "metadata": {
            "tags": []
          },
          "execution_count": 26
        }
      ]
    },
    {
      "cell_type": "markdown",
      "metadata": {
        "id": "vriX-F9GWyrE"
      },
      "source": [
        "**Seleccionar más de una columna**\n",
        "\n",
        "Para selecionar las columnas se hace con los nombres de las mismas entre corchetes [ ] y comillas simples ' ' o dobles \" \". Para filtrar las filas se hace de la misma manera.\n",
        "\n",
        "\n",
        "```\n",
        "nombre_dataframe.loc[indice_inicio: indice fin,['nombre_col_1', 'nombre_col_2']]\n",
        "```\n",
        "\n",
        "\n"
      ]
    },
    {
      "cell_type": "code",
      "metadata": {
        "id": "AFEq8SM5XTVG",
        "outputId": "2df167a9-905e-45f0-f240-6509f2085b81",
        "colab": {
          "base_uri": "https://localhost:8080/",
          "height": 415
        }
      },
      "source": [
        "#Selecionar todas las filas y las columnas\n",
        "#'Tr@bajo' y 'Medio_de_Comunicación'\n",
        "\n",
        "data.loc[:,['Tr@bajo','Medio_de_Comunicación']]"
      ],
      "execution_count": null,
      "outputs": [
        {
          "output_type": "execute_result",
          "data": {
            "text/html": [
              "<div>\n",
              "<style scoped>\n",
              "    .dataframe tbody tr th:only-of-type {\n",
              "        vertical-align: middle;\n",
              "    }\n",
              "\n",
              "    .dataframe tbody tr th {\n",
              "        vertical-align: top;\n",
              "    }\n",
              "\n",
              "    .dataframe thead th {\n",
              "        text-align: right;\n",
              "    }\n",
              "</style>\n",
              "<table border=\"1\" class=\"dataframe\">\n",
              "  <thead>\n",
              "    <tr style=\"text-align: right;\">\n",
              "      <th></th>\n",
              "      <th>Tr@bajo</th>\n",
              "      <th>Medio_de_Comunicación</th>\n",
              "    </tr>\n",
              "  </thead>\n",
              "  <tbody>\n",
              "    <tr>\n",
              "      <th>0</th>\n",
              "      <td>management</td>\n",
              "      <td>unknown</td>\n",
              "    </tr>\n",
              "    <tr>\n",
              "      <th>1</th>\n",
              "      <td>technician</td>\n",
              "      <td>unknown</td>\n",
              "    </tr>\n",
              "    <tr>\n",
              "      <th>2</th>\n",
              "      <td>entrepreneur</td>\n",
              "      <td>unknown</td>\n",
              "    </tr>\n",
              "    <tr>\n",
              "      <th>3</th>\n",
              "      <td>blue-collar</td>\n",
              "      <td>unknown</td>\n",
              "    </tr>\n",
              "    <tr>\n",
              "      <th>5</th>\n",
              "      <td>management</td>\n",
              "      <td>unknown</td>\n",
              "    </tr>\n",
              "    <tr>\n",
              "      <th>...</th>\n",
              "      <td>...</td>\n",
              "      <td>...</td>\n",
              "    </tr>\n",
              "    <tr>\n",
              "      <th>12044</th>\n",
              "      <td>blue-collar</td>\n",
              "      <td>unknown</td>\n",
              "    </tr>\n",
              "    <tr>\n",
              "      <th>12045</th>\n",
              "      <td>blue-collar</td>\n",
              "      <td>unknown</td>\n",
              "    </tr>\n",
              "    <tr>\n",
              "      <th>12046</th>\n",
              "      <td>retired</td>\n",
              "      <td>unknown</td>\n",
              "    </tr>\n",
              "    <tr>\n",
              "      <th>12047</th>\n",
              "      <td>services</td>\n",
              "      <td>unknown</td>\n",
              "    </tr>\n",
              "    <tr>\n",
              "      <th>12048</th>\n",
              "      <td>technician</td>\n",
              "      <td>unknown</td>\n",
              "    </tr>\n",
              "  </tbody>\n",
              "</table>\n",
              "<p>11951 rows × 2 columns</p>\n",
              "</div>"
            ],
            "text/plain": [
              "            Tr@bajo Medio_de_Comunicación\n",
              "0        management               unknown\n",
              "1        technician               unknown\n",
              "2      entrepreneur               unknown\n",
              "3       blue-collar               unknown\n",
              "5        management               unknown\n",
              "...             ...                   ...\n",
              "12044   blue-collar               unknown\n",
              "12045   blue-collar               unknown\n",
              "12046       retired               unknown\n",
              "12047      services               unknown\n",
              "12048    technician               unknown\n",
              "\n",
              "[11951 rows x 2 columns]"
            ]
          },
          "metadata": {
            "tags": []
          },
          "execution_count": 27
        }
      ]
    },
    {
      "cell_type": "code",
      "metadata": {
        "id": "HlaTYJUQXoQp",
        "outputId": "907e95ee-ec4a-4db2-a673-6054a821f6c4",
        "colab": {
          "base_uri": "https://localhost:8080/",
          "height": 233
        }
      },
      "source": [
        "#Selecionar todas las filas con índice del 10 al 15 y las columnas\n",
        "#'Tr@bajo' y 'Medio_de_Comunicación'\n",
        "\n",
        "data.loc[10:15,['Tr@bajo','Medio_de_Comunicación']]"
      ],
      "execution_count": null,
      "outputs": [
        {
          "output_type": "execute_result",
          "data": {
            "text/html": [
              "<div>\n",
              "<style scoped>\n",
              "    .dataframe tbody tr th:only-of-type {\n",
              "        vertical-align: middle;\n",
              "    }\n",
              "\n",
              "    .dataframe tbody tr th {\n",
              "        vertical-align: top;\n",
              "    }\n",
              "\n",
              "    .dataframe thead th {\n",
              "        text-align: right;\n",
              "    }\n",
              "</style>\n",
              "<table border=\"1\" class=\"dataframe\">\n",
              "  <thead>\n",
              "    <tr style=\"text-align: right;\">\n",
              "      <th></th>\n",
              "      <th>Tr@bajo</th>\n",
              "      <th>Medio_de_Comunicación</th>\n",
              "    </tr>\n",
              "  </thead>\n",
              "  <tbody>\n",
              "    <tr>\n",
              "      <th>10</th>\n",
              "      <td>admin.</td>\n",
              "      <td>unknown</td>\n",
              "    </tr>\n",
              "    <tr>\n",
              "      <th>11</th>\n",
              "      <td>admin.</td>\n",
              "      <td>unknown</td>\n",
              "    </tr>\n",
              "    <tr>\n",
              "      <th>12</th>\n",
              "      <td>technician</td>\n",
              "      <td>unknown</td>\n",
              "    </tr>\n",
              "    <tr>\n",
              "      <th>13</th>\n",
              "      <td>technician</td>\n",
              "      <td>unknown</td>\n",
              "    </tr>\n",
              "    <tr>\n",
              "      <th>14</th>\n",
              "      <td>services</td>\n",
              "      <td>unknown</td>\n",
              "    </tr>\n",
              "    <tr>\n",
              "      <th>15</th>\n",
              "      <td>retired</td>\n",
              "      <td>unknown</td>\n",
              "    </tr>\n",
              "  </tbody>\n",
              "</table>\n",
              "</div>"
            ],
            "text/plain": [
              "       Tr@bajo Medio_de_Comunicación\n",
              "10      admin.               unknown\n",
              "11      admin.               unknown\n",
              "12  technician               unknown\n",
              "13  technician               unknown\n",
              "14    services               unknown\n",
              "15     retired               unknown"
            ]
          },
          "metadata": {
            "tags": []
          },
          "execution_count": 28
        }
      ]
    },
    {
      "cell_type": "markdown",
      "metadata": {
        "id": "kuj3qoDCX6Ig"
      },
      "source": [
        "### Continuación limpieza"
      ]
    },
    {
      "cell_type": "markdown",
      "metadata": {
        "id": "y8nKm7phX9mt"
      },
      "source": [
        "Para borrar las columnas o filas que no quiero utilizar, debo filtrar el data por esas filas y/o columas y luego utilizar el método drop"
      ]
    },
    {
      "cell_type": "code",
      "metadata": {
        "id": "vaKN0dJCB1o3"
      },
      "source": [
        "borrar = data.loc[:,['Tr@bajo','Medio_de_Comunicación','Nivel_escolaridad.1']]\n",
        "\n",
        "#Creo un nuevo dataframe que contiene lo que quiero borrar\n",
        "#En este caso las columnas Tr@bajo, Medio_de_Comunicación y Nivel_escolaridad.1"
      ],
      "execution_count": null,
      "outputs": []
    },
    {
      "cell_type": "code",
      "metadata": {
        "id": "RhITEBdOCqga"
      },
      "source": [
        "data = data.drop(borrar,axis=1)\n",
        "\n",
        "#Al escribir 'data =' estamos sobrescribiendo el dataframe\n",
        "\n",
        "#drop nos permite eliminar la parte del dataframe que ya almacenamos en la \n",
        "#variable borrar. Ponemos axis=1 para que borre las columnas"
      ],
      "execution_count": null,
      "outputs": []
    },
    {
      "cell_type": "code",
      "metadata": {
        "id": "LE1K7nAaYtB1"
      },
      "source": [
        "#También lo puedo hacer directamente sin crear otro objeto\n",
        "\n",
        "#data = data.drop(data.loc[:,['Tr@bajo','Medio_de_Comunicación','Nivel_escolaridad.1']], axis=1)\n",
        "\n",
        "#Sin embargo si ejecuto las dos instrucciones generaría un error porque en \n",
        "#la primera línea de código ya fueron eliminadas estas columnas\n",
        "#por esto toda esta parte está comentada"
      ],
      "execution_count": null,
      "outputs": []
    },
    {
      "cell_type": "code",
      "metadata": {
        "id": "eImqzwjdC8L1",
        "outputId": "9f94cb05-52aa-43c7-e954-0cab7e0cf638",
        "colab": {
          "base_uri": "https://localhost:8080/",
          "height": 87
        }
      },
      "source": [
        "data.columns\n",
        "#Aquí evidenciados que efectivamente borramos las columnas"
      ],
      "execution_count": null,
      "outputs": [
        {
          "output_type": "execute_result",
          "data": {
            "text/plain": [
              "Index(['Nombre', 'Edad', 'Trabajo', 'Estado_Civil', 'Nivel_escolaridad',\n",
              "       'Tiene_Credito?', 'Duracion_ultimo_contacto_seg', 'Order_D4te',\n",
              "       'envio23$%3', 'Segment', 'Categ', 'SubCat', 'V2016', 'V2017', 'V2018'],\n",
              "      dtype='object')"
            ]
          },
          "metadata": {
            "tags": []
          },
          "execution_count": 32
        }
      ]
    },
    {
      "cell_type": "code",
      "metadata": {
        "id": "Bp1qedIeDAxe",
        "outputId": "dc33031d-e6e2-46b8-89d7-12c03a17c6e3",
        "colab": {
          "base_uri": "https://localhost:8080/",
          "height": 35
        }
      },
      "source": [
        "data.shape\n",
        "#También vemos que disminuyó el número de columnas del dataframe"
      ],
      "execution_count": null,
      "outputs": [
        {
          "output_type": "execute_result",
          "data": {
            "text/plain": [
              "(11951, 15)"
            ]
          },
          "metadata": {
            "tags": []
          },
          "execution_count": 34
        }
      ]
    },
    {
      "cell_type": "code",
      "metadata": {
        "id": "Dt78lEUnDScd"
      },
      "source": [
        "operarios = data[data['Trabajo']=='blue-collar']"
      ],
      "execution_count": null,
      "outputs": []
    },
    {
      "cell_type": "code",
      "metadata": {
        "id": "jBG0nytFEPS5",
        "outputId": "05334dd6-6274-46f5-d23d-01fd63589dc7",
        "colab": {
          "base_uri": "https://localhost:8080/",
          "height": 35
        }
      },
      "source": [
        "operarios.shape"
      ],
      "execution_count": null,
      "outputs": [
        {
          "output_type": "execute_result",
          "data": {
            "text/plain": [
              "(3751, 15)"
            ]
          },
          "metadata": {
            "tags": []
          },
          "execution_count": 52
        }
      ]
    },
    {
      "cell_type": "markdown",
      "metadata": {
        "id": "WXbrXDdZZfoO"
      },
      "source": [
        "# Extraer una parte del dataframe:"
      ]
    },
    {
      "cell_type": "markdown",
      "metadata": {
        "id": "xkKtjuBdaipi"
      },
      "source": [
        "También podemos filtrar del dataframe una parte de los datos que cumplan una determinada característica.\n",
        "\n",
        "Por ejemplo, vamos a imaginar que soy el coordinador de la planta de producción y solo me interesan los datos de los operarios"
      ]
    },
    {
      "cell_type": "markdown",
      "metadata": {
        "id": "LqDUxKuXbEe6"
      },
      "source": [
        "Para filtrar el data set se utiliza el siguiente código:"
      ]
    },
    {
      "cell_type": "code",
      "metadata": {
        "id": "y_Hk9yD3a5WZ",
        "outputId": "5240be4a-0301-45a5-97f7-30225b5e5282",
        "colab": {
          "base_uri": "https://localhost:8080/",
          "height": 747
        }
      },
      "source": [
        "data[data['Trabajo']=='blue-collar']"
      ],
      "execution_count": null,
      "outputs": [
        {
          "output_type": "execute_result",
          "data": {
            "text/html": [
              "<div>\n",
              "<style scoped>\n",
              "    .dataframe tbody tr th:only-of-type {\n",
              "        vertical-align: middle;\n",
              "    }\n",
              "\n",
              "    .dataframe tbody tr th {\n",
              "        vertical-align: top;\n",
              "    }\n",
              "\n",
              "    .dataframe thead th {\n",
              "        text-align: right;\n",
              "    }\n",
              "</style>\n",
              "<table border=\"1\" class=\"dataframe\">\n",
              "  <thead>\n",
              "    <tr style=\"text-align: right;\">\n",
              "      <th></th>\n",
              "      <th>Nombre</th>\n",
              "      <th>Edad</th>\n",
              "      <th>Trabajo</th>\n",
              "      <th>Estado_Civil</th>\n",
              "      <th>Nivel_escolaridad</th>\n",
              "      <th>Tiene_Credito?</th>\n",
              "      <th>Duracion_ultimo_contacto_seg</th>\n",
              "      <th>Order_D4te</th>\n",
              "      <th>envio23$%3</th>\n",
              "      <th>Segment</th>\n",
              "      <th>Categ</th>\n",
              "      <th>SubCat</th>\n",
              "      <th>V2016</th>\n",
              "      <th>V2017</th>\n",
              "      <th>V2018</th>\n",
              "    </tr>\n",
              "  </thead>\n",
              "  <tbody>\n",
              "    <tr>\n",
              "      <th>3</th>\n",
              "      <td>rocio-constanza/mora-lopez</td>\n",
              "      <td>47</td>\n",
              "      <td>blue-collar</td>\n",
              "      <td>married</td>\n",
              "      <td>No informa</td>\n",
              "      <td>no</td>\n",
              "      <td>92</td>\n",
              "      <td>14/07/16</td>\n",
              "      <td>Regular</td>\n",
              "      <td>Startups</td>\n",
              "      <td>Suplementos_Oficina</td>\n",
              "      <td>Reglas_tijeras</td>\n",
              "      <td>2.681</td>\n",
              "      <td>823.176</td>\n",
              "      <td>13.273</td>\n",
              "    </tr>\n",
              "    <tr>\n",
              "      <th>17</th>\n",
              "      <td>olga-/cabrera-gomez</td>\n",
              "      <td>57</td>\n",
              "      <td>blue-collar</td>\n",
              "      <td>married</td>\n",
              "      <td>primary</td>\n",
              "      <td>no</td>\n",
              "      <td>38</td>\n",
              "      <td>12/01/16</td>\n",
              "      <td>Regular</td>\n",
              "      <td>Corporativo</td>\n",
              "      <td>Suplementos_Oficina</td>\n",
              "      <td>Muebles_Oficina</td>\n",
              "      <td>75.170</td>\n",
              "      <td>768.805</td>\n",
              "      <td>90.667</td>\n",
              "    </tr>\n",
              "    <tr>\n",
              "      <th>20</th>\n",
              "      <td>sandra-/gomez-ballen</td>\n",
              "      <td>28</td>\n",
              "      <td>blue-collar</td>\n",
              "      <td>married</td>\n",
              "      <td>secondary</td>\n",
              "      <td>no</td>\n",
              "      <td>262</td>\n",
              "      <td>1/09/18</td>\n",
              "      <td>Regular</td>\n",
              "      <td>Personas</td>\n",
              "      <td>Tecnología</td>\n",
              "      <td>Lapiceros_y_Marcadores</td>\n",
              "      <td>28.466</td>\n",
              "      <td>859.232</td>\n",
              "      <td>328.140</td>\n",
              "    </tr>\n",
              "    <tr>\n",
              "      <th>22</th>\n",
              "      <td>sandra-rosario/lopez-bernal</td>\n",
              "      <td>32</td>\n",
              "      <td>blue-collar</td>\n",
              "      <td>single</td>\n",
              "      <td>primary</td>\n",
              "      <td>no</td>\n",
              "      <td>16</td>\n",
              "      <td>27/03/18</td>\n",
              "      <td>Regular</td>\n",
              "      <td>Corporativo</td>\n",
              "      <td>Tecnología</td>\n",
              "      <td>Bandas_Oficina</td>\n",
              "      <td>68.778</td>\n",
              "      <td>279.766</td>\n",
              "      <td>183.387</td>\n",
              "    </tr>\n",
              "    <tr>\n",
              "      <th>33</th>\n",
              "      <td>ligia-gisela/murcia-mellizos</td>\n",
              "      <td>59</td>\n",
              "      <td>blue-collar</td>\n",
              "      <td>married</td>\n",
              "      <td>secondary</td>\n",
              "      <td>no</td>\n",
              "      <td>226</td>\n",
              "      <td>25/01/16</td>\n",
              "      <td>Regular</td>\n",
              "      <td>Personas</td>\n",
              "      <td>Muebles</td>\n",
              "      <td>Lapiceros_y_Marcadores</td>\n",
              "      <td>49.201</td>\n",
              "      <td>551.683</td>\n",
              "      <td>762.588</td>\n",
              "    </tr>\n",
              "    <tr>\n",
              "      <th>...</th>\n",
              "      <td>...</td>\n",
              "      <td>...</td>\n",
              "      <td>...</td>\n",
              "      <td>...</td>\n",
              "      <td>...</td>\n",
              "      <td>...</td>\n",
              "      <td>...</td>\n",
              "      <td>...</td>\n",
              "      <td>...</td>\n",
              "      <td>...</td>\n",
              "      <td>...</td>\n",
              "      <td>...</td>\n",
              "      <td>...</td>\n",
              "      <td>...</td>\n",
              "      <td>...</td>\n",
              "    </tr>\n",
              "    <tr>\n",
              "      <th>12035</th>\n",
              "      <td>ketty-marina/lozano-arevalo</td>\n",
              "      <td>57</td>\n",
              "      <td>blue-collar</td>\n",
              "      <td>married</td>\n",
              "      <td>primary</td>\n",
              "      <td>no</td>\n",
              "      <td>11</td>\n",
              "      <td>5/10/18</td>\n",
              "      <td>Regular</td>\n",
              "      <td>Personas</td>\n",
              "      <td>Suplementos_Oficina</td>\n",
              "      <td>Accesorios</td>\n",
              "      <td>35.258</td>\n",
              "      <td>688.124</td>\n",
              "      <td>944.846</td>\n",
              "    </tr>\n",
              "    <tr>\n",
              "      <th>12039</th>\n",
              "      <td>lilia-alejandro/morales-yepes</td>\n",
              "      <td>34</td>\n",
              "      <td>blue-collar</td>\n",
              "      <td>married</td>\n",
              "      <td>primary</td>\n",
              "      <td>no</td>\n",
              "      <td>372</td>\n",
              "      <td>21/01/16</td>\n",
              "      <td>Bajo</td>\n",
              "      <td>Corporativo</td>\n",
              "      <td>Tecnología</td>\n",
              "      <td>Suplementos_Oficina</td>\n",
              "      <td>91.383</td>\n",
              "      <td>630.356</td>\n",
              "      <td>25.157</td>\n",
              "    </tr>\n",
              "    <tr>\n",
              "      <th>12041</th>\n",
              "      <td>france-felipe/morales-peña</td>\n",
              "      <td>56</td>\n",
              "      <td>blue-collar</td>\n",
              "      <td>married</td>\n",
              "      <td>secondary</td>\n",
              "      <td>no</td>\n",
              "      <td>9</td>\n",
              "      <td>16/03/16</td>\n",
              "      <td>Bajo</td>\n",
              "      <td>Startups</td>\n",
              "      <td>Tecnología</td>\n",
              "      <td>Tecnología</td>\n",
              "      <td>30.755</td>\n",
              "      <td>405.114</td>\n",
              "      <td>135.197</td>\n",
              "    </tr>\n",
              "    <tr>\n",
              "      <th>12044</th>\n",
              "      <td>monica-patricia/trujillo-segura</td>\n",
              "      <td>32</td>\n",
              "      <td>blue-collar</td>\n",
              "      <td>married</td>\n",
              "      <td>primary</td>\n",
              "      <td>no</td>\n",
              "      <td>8</td>\n",
              "      <td>28/11/16</td>\n",
              "      <td>Express_Tierra</td>\n",
              "      <td>Startups</td>\n",
              "      <td>Suplementos_Oficina</td>\n",
              "      <td>Almacenaje</td>\n",
              "      <td>31.058</td>\n",
              "      <td>510.900</td>\n",
              "      <td>582.269</td>\n",
              "    </tr>\n",
              "    <tr>\n",
              "      <th>12045</th>\n",
              "      <td>diana-helena/lozada-rodriguez</td>\n",
              "      <td>39</td>\n",
              "      <td>blue-collar</td>\n",
              "      <td>married</td>\n",
              "      <td>secondary</td>\n",
              "      <td>no</td>\n",
              "      <td>78</td>\n",
              "      <td>29/12/16</td>\n",
              "      <td>Regular</td>\n",
              "      <td>Hogares</td>\n",
              "      <td>Muebles</td>\n",
              "      <td>Libreros</td>\n",
              "      <td>34.929</td>\n",
              "      <td>162.553</td>\n",
              "      <td>618.894</td>\n",
              "    </tr>\n",
              "  </tbody>\n",
              "</table>\n",
              "<p>3741 rows × 15 columns</p>\n",
              "</div>"
            ],
            "text/plain": [
              "                                Nombre  Edad  ...    V2017    V2018\n",
              "3           rocio-constanza/mora-lopez    47  ...  823.176   13.273\n",
              "17                 olga-/cabrera-gomez    57  ...  768.805   90.667\n",
              "20                sandra-/gomez-ballen    28  ...  859.232  328.140\n",
              "22         sandra-rosario/lopez-bernal    32  ...  279.766  183.387\n",
              "33        ligia-gisela/murcia-mellizos    59  ...  551.683  762.588\n",
              "...                                ...   ...  ...      ...      ...\n",
              "12035      ketty-marina/lozano-arevalo    57  ...  688.124  944.846\n",
              "12039    lilia-alejandro/morales-yepes    34  ...  630.356   25.157\n",
              "12041       france-felipe/morales-peña    56  ...  405.114  135.197\n",
              "12044  monica-patricia/trujillo-segura    32  ...  510.900  582.269\n",
              "12045    diana-helena/lozada-rodriguez    39  ...  162.553  618.894\n",
              "\n",
              "[3741 rows x 15 columns]"
            ]
          },
          "metadata": {
            "tags": []
          },
          "execution_count": 37
        }
      ]
    },
    {
      "cell_type": "markdown",
      "metadata": {
        "id": "h7mBsrnhbOYp"
      },
      "source": [
        "Lo que hace Python es crear una máscara que indica para cada índice si cumple o no la condición así:"
      ]
    },
    {
      "cell_type": "code",
      "metadata": {
        "id": "VKdYt9NobXRT",
        "outputId": "bf9feef1-18dd-4f5b-dd3e-e7935e690ef8",
        "colab": {
          "base_uri": "https://localhost:8080/",
          "height": 225
        }
      },
      "source": [
        "data['Trabajo']=='blue-collar'"
      ],
      "execution_count": null,
      "outputs": [
        {
          "output_type": "execute_result",
          "data": {
            "text/plain": [
              "0        False\n",
              "1        False\n",
              "2        False\n",
              "3         True\n",
              "5        False\n",
              "         ...  \n",
              "12044     True\n",
              "12045     True\n",
              "12046    False\n",
              "12047    False\n",
              "12048    False\n",
              "Name: Trabajo, Length: 11951, dtype: bool"
            ]
          },
          "metadata": {
            "tags": []
          },
          "execution_count": 38
        }
      ]
    },
    {
      "cell_type": "markdown",
      "metadata": {
        "id": "q6kPVPowbbcq"
      },
      "source": [
        "Ahora vamos a crear una nueva variable llamada **Operarios** que va a contener el dataset filtrado por esta información"
      ]
    },
    {
      "cell_type": "code",
      "metadata": {
        "id": "yw3qLiaGbZ9B"
      },
      "source": [
        "operarios = data[data['Trabajo']=='blue-collar']"
      ],
      "execution_count": null,
      "outputs": []
    },
    {
      "cell_type": "code",
      "metadata": {
        "id": "arXp8Si4Emy5",
        "outputId": "79eccbc8-8be4-4346-c6ab-bd88913500f8",
        "colab": {
          "base_uri": "https://localhost:8080/",
          "height": 361
        }
      },
      "source": [
        "operarios.head()"
      ],
      "execution_count": null,
      "outputs": [
        {
          "output_type": "execute_result",
          "data": {
            "text/html": [
              "<div>\n",
              "<style scoped>\n",
              "    .dataframe tbody tr th:only-of-type {\n",
              "        vertical-align: middle;\n",
              "    }\n",
              "\n",
              "    .dataframe tbody tr th {\n",
              "        vertical-align: top;\n",
              "    }\n",
              "\n",
              "    .dataframe thead th {\n",
              "        text-align: right;\n",
              "    }\n",
              "</style>\n",
              "<table border=\"1\" class=\"dataframe\">\n",
              "  <thead>\n",
              "    <tr style=\"text-align: right;\">\n",
              "      <th></th>\n",
              "      <th>Nombre</th>\n",
              "      <th>Edad</th>\n",
              "      <th>Trabajo</th>\n",
              "      <th>Estado_Civil</th>\n",
              "      <th>Nivel_escolaridad</th>\n",
              "      <th>Tiene_Credito?</th>\n",
              "      <th>Duracion_ultimo_contacto_seg</th>\n",
              "      <th>Order_D4te</th>\n",
              "      <th>envio23$%3</th>\n",
              "      <th>Segment</th>\n",
              "      <th>Categ</th>\n",
              "      <th>SubCat</th>\n",
              "      <th>V2016</th>\n",
              "      <th>V2017</th>\n",
              "      <th>V2018</th>\n",
              "    </tr>\n",
              "  </thead>\n",
              "  <tbody>\n",
              "    <tr>\n",
              "      <th>3</th>\n",
              "      <td>rocio-constanza/mora-lopez</td>\n",
              "      <td>47</td>\n",
              "      <td>blue-collar</td>\n",
              "      <td>married</td>\n",
              "      <td>No informa</td>\n",
              "      <td>no</td>\n",
              "      <td>92</td>\n",
              "      <td>14/07/16</td>\n",
              "      <td>Regular</td>\n",
              "      <td>Startups</td>\n",
              "      <td>Suplementos_Oficina</td>\n",
              "      <td>Reglas_tijeras</td>\n",
              "      <td>2.681</td>\n",
              "      <td>823.176</td>\n",
              "      <td>13.273</td>\n",
              "    </tr>\n",
              "    <tr>\n",
              "      <th>17</th>\n",
              "      <td>olga-/cabrera-gomez</td>\n",
              "      <td>57</td>\n",
              "      <td>blue-collar</td>\n",
              "      <td>married</td>\n",
              "      <td>primary</td>\n",
              "      <td>no</td>\n",
              "      <td>38</td>\n",
              "      <td>12/01/16</td>\n",
              "      <td>Regular</td>\n",
              "      <td>Corporativo</td>\n",
              "      <td>Suplementos_Oficina</td>\n",
              "      <td>Muebles_Oficina</td>\n",
              "      <td>75.170</td>\n",
              "      <td>768.805</td>\n",
              "      <td>90.667</td>\n",
              "    </tr>\n",
              "    <tr>\n",
              "      <th>20</th>\n",
              "      <td>sandra-/gomez-ballen</td>\n",
              "      <td>28</td>\n",
              "      <td>blue-collar</td>\n",
              "      <td>married</td>\n",
              "      <td>secondary</td>\n",
              "      <td>no</td>\n",
              "      <td>262</td>\n",
              "      <td>1/09/18</td>\n",
              "      <td>Regular</td>\n",
              "      <td>Personas</td>\n",
              "      <td>Tecnología</td>\n",
              "      <td>Lapiceros_y_Marcadores</td>\n",
              "      <td>28.466</td>\n",
              "      <td>859.232</td>\n",
              "      <td>328.140</td>\n",
              "    </tr>\n",
              "    <tr>\n",
              "      <th>22</th>\n",
              "      <td>sandra-rosario/lopez-bernal</td>\n",
              "      <td>32</td>\n",
              "      <td>blue-collar</td>\n",
              "      <td>single</td>\n",
              "      <td>primary</td>\n",
              "      <td>no</td>\n",
              "      <td>16</td>\n",
              "      <td>27/03/18</td>\n",
              "      <td>Regular</td>\n",
              "      <td>Corporativo</td>\n",
              "      <td>Tecnología</td>\n",
              "      <td>Bandas_Oficina</td>\n",
              "      <td>68.778</td>\n",
              "      <td>279.766</td>\n",
              "      <td>183.387</td>\n",
              "    </tr>\n",
              "    <tr>\n",
              "      <th>33</th>\n",
              "      <td>ligia-gisela/murcia-mellizos</td>\n",
              "      <td>59</td>\n",
              "      <td>blue-collar</td>\n",
              "      <td>married</td>\n",
              "      <td>secondary</td>\n",
              "      <td>no</td>\n",
              "      <td>226</td>\n",
              "      <td>25/01/16</td>\n",
              "      <td>Regular</td>\n",
              "      <td>Personas</td>\n",
              "      <td>Muebles</td>\n",
              "      <td>Lapiceros_y_Marcadores</td>\n",
              "      <td>49.201</td>\n",
              "      <td>551.683</td>\n",
              "      <td>762.588</td>\n",
              "    </tr>\n",
              "  </tbody>\n",
              "</table>\n",
              "</div>"
            ],
            "text/plain": [
              "                          Nombre  Edad      Trabajo  ...   V2016    V2017    V2018\n",
              "3     rocio-constanza/mora-lopez    47  blue-collar  ...   2.681  823.176   13.273\n",
              "17           olga-/cabrera-gomez    57  blue-collar  ...  75.170  768.805   90.667\n",
              "20          sandra-/gomez-ballen    28  blue-collar  ...  28.466  859.232  328.140\n",
              "22   sandra-rosario/lopez-bernal    32  blue-collar  ...  68.778  279.766  183.387\n",
              "33  ligia-gisela/murcia-mellizos    59  blue-collar  ...  49.201  551.683  762.588\n",
              "\n",
              "[5 rows x 15 columns]"
            ]
          },
          "metadata": {
            "tags": []
          },
          "execution_count": 40
        }
      ]
    },
    {
      "cell_type": "markdown",
      "metadata": {
        "id": "9HtSCg6_cO0w"
      },
      "source": [
        "Observemos que los índices (los números de la izquierda) corresponde aún a los del dataframe anterior (el que contiene toda la información) y por esto salta del 3 al 17.\n",
        "\n",
        "Para que los índices estén desde el 0 en adelante utilizamos el método ***.reset_index()***"
      ]
    },
    {
      "cell_type": "code",
      "metadata": {
        "id": "I-vwU-Z7FAzH"
      },
      "source": [
        "operarios = operarios.reset_index()\n"
      ],
      "execution_count": null,
      "outputs": []
    },
    {
      "cell_type": "code",
      "metadata": {
        "id": "eOvV1zBwFBmR",
        "outputId": "88d11fde-3656-4561-ee8c-8ae94701d734",
        "colab": {
          "base_uri": "https://localhost:8080/",
          "height": 361
        }
      },
      "source": [
        "operarios.head()\n",
        "#Observa que ahora los índices inician desde el 0\n",
        "#Se crea una nueva columna que se llama 'index'\n",
        "#que guarda los indices del dataframe anterior"
      ],
      "execution_count": null,
      "outputs": [
        {
          "output_type": "execute_result",
          "data": {
            "text/html": [
              "<div>\n",
              "<style scoped>\n",
              "    .dataframe tbody tr th:only-of-type {\n",
              "        vertical-align: middle;\n",
              "    }\n",
              "\n",
              "    .dataframe tbody tr th {\n",
              "        vertical-align: top;\n",
              "    }\n",
              "\n",
              "    .dataframe thead th {\n",
              "        text-align: right;\n",
              "    }\n",
              "</style>\n",
              "<table border=\"1\" class=\"dataframe\">\n",
              "  <thead>\n",
              "    <tr style=\"text-align: right;\">\n",
              "      <th></th>\n",
              "      <th>index</th>\n",
              "      <th>Nombre</th>\n",
              "      <th>Edad</th>\n",
              "      <th>Trabajo</th>\n",
              "      <th>Estado_Civil</th>\n",
              "      <th>Nivel_escolaridad</th>\n",
              "      <th>Tiene_Credito?</th>\n",
              "      <th>Duracion_ultimo_contacto_seg</th>\n",
              "      <th>Order_D4te</th>\n",
              "      <th>envio23$%3</th>\n",
              "      <th>Segment</th>\n",
              "      <th>Categ</th>\n",
              "      <th>SubCat</th>\n",
              "      <th>V2016</th>\n",
              "      <th>V2017</th>\n",
              "      <th>V2018</th>\n",
              "    </tr>\n",
              "  </thead>\n",
              "  <tbody>\n",
              "    <tr>\n",
              "      <th>0</th>\n",
              "      <td>3</td>\n",
              "      <td>rocio-constanza/mora-lopez</td>\n",
              "      <td>47</td>\n",
              "      <td>blue-collar</td>\n",
              "      <td>married</td>\n",
              "      <td>No informa</td>\n",
              "      <td>no</td>\n",
              "      <td>92</td>\n",
              "      <td>14/07/16</td>\n",
              "      <td>Regular</td>\n",
              "      <td>Startups</td>\n",
              "      <td>Suplementos_Oficina</td>\n",
              "      <td>Reglas_tijeras</td>\n",
              "      <td>2.681</td>\n",
              "      <td>823.176</td>\n",
              "      <td>13.273</td>\n",
              "    </tr>\n",
              "    <tr>\n",
              "      <th>1</th>\n",
              "      <td>17</td>\n",
              "      <td>olga-/cabrera-gomez</td>\n",
              "      <td>57</td>\n",
              "      <td>blue-collar</td>\n",
              "      <td>married</td>\n",
              "      <td>primary</td>\n",
              "      <td>no</td>\n",
              "      <td>38</td>\n",
              "      <td>12/01/16</td>\n",
              "      <td>Regular</td>\n",
              "      <td>Corporativo</td>\n",
              "      <td>Suplementos_Oficina</td>\n",
              "      <td>Muebles_Oficina</td>\n",
              "      <td>75.170</td>\n",
              "      <td>768.805</td>\n",
              "      <td>90.667</td>\n",
              "    </tr>\n",
              "    <tr>\n",
              "      <th>2</th>\n",
              "      <td>20</td>\n",
              "      <td>sandra-/gomez-ballen</td>\n",
              "      <td>28</td>\n",
              "      <td>blue-collar</td>\n",
              "      <td>married</td>\n",
              "      <td>secondary</td>\n",
              "      <td>no</td>\n",
              "      <td>262</td>\n",
              "      <td>1/09/18</td>\n",
              "      <td>Regular</td>\n",
              "      <td>Personas</td>\n",
              "      <td>Tecnología</td>\n",
              "      <td>Lapiceros_y_Marcadores</td>\n",
              "      <td>28.466</td>\n",
              "      <td>859.232</td>\n",
              "      <td>328.140</td>\n",
              "    </tr>\n",
              "    <tr>\n",
              "      <th>3</th>\n",
              "      <td>22</td>\n",
              "      <td>sandra-rosario/lopez-bernal</td>\n",
              "      <td>32</td>\n",
              "      <td>blue-collar</td>\n",
              "      <td>single</td>\n",
              "      <td>primary</td>\n",
              "      <td>no</td>\n",
              "      <td>16</td>\n",
              "      <td>27/03/18</td>\n",
              "      <td>Regular</td>\n",
              "      <td>Corporativo</td>\n",
              "      <td>Tecnología</td>\n",
              "      <td>Bandas_Oficina</td>\n",
              "      <td>68.778</td>\n",
              "      <td>279.766</td>\n",
              "      <td>183.387</td>\n",
              "    </tr>\n",
              "    <tr>\n",
              "      <th>4</th>\n",
              "      <td>33</td>\n",
              "      <td>ligia-gisela/murcia-mellizos</td>\n",
              "      <td>59</td>\n",
              "      <td>blue-collar</td>\n",
              "      <td>married</td>\n",
              "      <td>secondary</td>\n",
              "      <td>no</td>\n",
              "      <td>226</td>\n",
              "      <td>25/01/16</td>\n",
              "      <td>Regular</td>\n",
              "      <td>Personas</td>\n",
              "      <td>Muebles</td>\n",
              "      <td>Lapiceros_y_Marcadores</td>\n",
              "      <td>49.201</td>\n",
              "      <td>551.683</td>\n",
              "      <td>762.588</td>\n",
              "    </tr>\n",
              "  </tbody>\n",
              "</table>\n",
              "</div>"
            ],
            "text/plain": [
              "   index                        Nombre  Edad  ...   V2016    V2017    V2018\n",
              "0      3    rocio-constanza/mora-lopez    47  ...   2.681  823.176   13.273\n",
              "1     17           olga-/cabrera-gomez    57  ...  75.170  768.805   90.667\n",
              "2     20          sandra-/gomez-ballen    28  ...  28.466  859.232  328.140\n",
              "3     22   sandra-rosario/lopez-bernal    32  ...  68.778  279.766  183.387\n",
              "4     33  ligia-gisela/murcia-mellizos    59  ...  49.201  551.683  762.588\n",
              "\n",
              "[5 rows x 16 columns]"
            ]
          },
          "metadata": {
            "tags": []
          },
          "execution_count": 42
        }
      ]
    }
  ]
}